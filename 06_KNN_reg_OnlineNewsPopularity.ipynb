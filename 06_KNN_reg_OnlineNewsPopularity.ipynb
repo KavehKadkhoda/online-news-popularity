{
  "nbformat": 4,
  "nbformat_minor": 0,
  "metadata": {
    "colab": {
      "name": "06_KNN_reg_OnlineNewsPopularity.ipynb",
      "provenance": [],
      "collapsed_sections": []
    },
    "kernelspec": {
      "name": "python3",
      "display_name": "Python 3"
    },
    "language_info": {
      "name": "python"
    }
  },
  "cells": [
    {
      "cell_type": "code",
      "execution_count": null,
      "metadata": {
        "id": "hv3TNcdVcWeH",
        "outputId": "602e03c4-45fb-4795-f27f-5bb8cf025c21",
        "colab": {
          "base_uri": "https://localhost:8080/"
        }
      },
      "outputs": [
        {
          "output_type": "stream",
          "name": "stderr",
          "text": [
            "/usr/local/lib/python3.7/dist-packages/statsmodels/tools/_testing.py:19: FutureWarning: pandas.util.testing is deprecated. Use the functions in the public API at pandas.testing instead.\n",
            "  import pandas.util.testing as tm\n"
          ]
        }
      ],
      "source": [
        "import math as m\n",
        "from copy import copy\n",
        "import xlrd\n",
        "import csv \n",
        "import math\n",
        "import random\n",
        "\n",
        "import numpy as np\n",
        "import pandas as pd\n",
        "import matplotlib.pyplot as plt\n",
        "import seaborn as sns\n",
        "\n",
        "import scipy\n",
        "import scipy.stats as stats\n",
        "from scipy.stats import shapiro\n",
        "from scipy.stats import normaltest\n",
        "\n",
        "import sklearn as skl\n",
        "from sklearn.model_selection import train_test_split\n",
        "from sklearn.ensemble import RandomForestRegressor, RandomForestClassifier\n",
        "from sklearn.neural_network import MLPClassifier as NeuralNetwork\n",
        "from sklearn.neighbors import KNeighborsClassifier\n",
        "from sklearn.naive_bayes import GaussianNB\n",
        "from sklearn.metrics import mean_squared_error, mean_absolute_error, accuracy_score\n",
        "\n",
        "from statsmodels.tools.tools import add_constant\n",
        "from statsmodels.stats.stattools import durbin_watson\n",
        "from statsmodels.regression.linear_model import OLS\n",
        "from statsmodels.graphics.gofplots import qqplot\n",
        "import statsmodels.stats.api as sms\n",
        "import statsmodels.api as sm\n",
        "\n",
        "import warnings\n",
        "warnings.filterwarnings('ignore')"
      ]
    },
    {
      "cell_type": "markdown",
      "source": [
        "*italicized text*\n",
        "### **Data Analysis**\n"
      ],
      "metadata": {
        "id": "KUvwZf1jdSKr"
      }
    },
    {
      "cell_type": "code",
      "source": [
        "from google.colab import drive\n",
        "drive.mount('/content/drive')"
      ],
      "metadata": {
        "id": "Z4Rjtt-zdT_T",
        "colab": {
          "base_uri": "https://localhost:8080/"
        },
        "outputId": "1863d4a2-d6cd-4c21-bce0-194b961b8221"
      },
      "execution_count": null,
      "outputs": [
        {
          "output_type": "stream",
          "name": "stdout",
          "text": [
            "Mounted at /content/drive\n"
          ]
        }
      ]
    },
    {
      "cell_type": "code",
      "source": [
        "import pandas as pd\n",
        "\n",
        "#DATA: Add shortcut to your google drive\n",
        "\n",
        "# OnlineNewsPopularity.csv :\n",
        "# https://drive.google.com/file/d/1AwStb9o5Lf5j8cWjgUa7rwqJqPNM5zzl/view?usp=sharing\n",
        "\n",
        "original_data = pd.read_csv(\"drive/MyDrive/NLP/OnlineNewsPopularity.csv\")\n",
        "original_data.head()"
      ],
      "metadata": {
        "id": "_FQFHA4bdSgg",
        "colab": {
          "base_uri": "https://localhost:8080/",
          "height": 386
        },
        "outputId": "04e903bd-72ea-482f-b5d2-5eebed41c037"
      },
      "execution_count": null,
      "outputs": [
        {
          "output_type": "execute_result",
          "data": {
            "text/plain": [
              "                                                 url   timedelta  \\\n",
              "0  http://mashable.com/2013/01/07/amazon-instant-...       731.0   \n",
              "1  http://mashable.com/2013/01/07/ap-samsung-spon...       731.0   \n",
              "2  http://mashable.com/2013/01/07/apple-40-billio...       731.0   \n",
              "3  http://mashable.com/2013/01/07/astronaut-notre...       731.0   \n",
              "4   http://mashable.com/2013/01/07/att-u-verse-apps/       731.0   \n",
              "\n",
              "    n_tokens_title   n_tokens_content   n_unique_tokens   n_non_stop_words  \\\n",
              "0             12.0              219.0          0.663594                1.0   \n",
              "1              9.0              255.0          0.604743                1.0   \n",
              "2              9.0              211.0          0.575130                1.0   \n",
              "3              9.0              531.0          0.503788                1.0   \n",
              "4             13.0             1072.0          0.415646                1.0   \n",
              "\n",
              "    n_non_stop_unique_tokens   num_hrefs   num_self_hrefs   num_imgs  ...  \\\n",
              "0                   0.815385         4.0              2.0        1.0  ...   \n",
              "1                   0.791946         3.0              1.0        1.0  ...   \n",
              "2                   0.663866         3.0              1.0        1.0  ...   \n",
              "3                   0.665635         9.0              0.0        1.0  ...   \n",
              "4                   0.540890        19.0             19.0       20.0  ...   \n",
              "\n",
              "    min_positive_polarity   max_positive_polarity   avg_negative_polarity  \\\n",
              "0                0.100000                     0.7               -0.350000   \n",
              "1                0.033333                     0.7               -0.118750   \n",
              "2                0.100000                     1.0               -0.466667   \n",
              "3                0.136364                     0.8               -0.369697   \n",
              "4                0.033333                     1.0               -0.220192   \n",
              "\n",
              "    min_negative_polarity   max_negative_polarity   title_subjectivity  \\\n",
              "0                  -0.600               -0.200000             0.500000   \n",
              "1                  -0.125               -0.100000             0.000000   \n",
              "2                  -0.800               -0.133333             0.000000   \n",
              "3                  -0.600               -0.166667             0.000000   \n",
              "4                  -0.500               -0.050000             0.454545   \n",
              "\n",
              "    title_sentiment_polarity   abs_title_subjectivity  \\\n",
              "0                  -0.187500                 0.000000   \n",
              "1                   0.000000                 0.500000   \n",
              "2                   0.000000                 0.500000   \n",
              "3                   0.000000                 0.500000   \n",
              "4                   0.136364                 0.045455   \n",
              "\n",
              "    abs_title_sentiment_polarity   shares  \n",
              "0                       0.187500      593  \n",
              "1                       0.000000      711  \n",
              "2                       0.000000     1500  \n",
              "3                       0.000000     1200  \n",
              "4                       0.136364      505  \n",
              "\n",
              "[5 rows x 61 columns]"
            ],
            "text/html": [
              "\n",
              "  <div id=\"df-65d4c5d7-fa0d-430a-a8d8-a6eb4d0cfdca\">\n",
              "    <div class=\"colab-df-container\">\n",
              "      <div>\n",
              "<style scoped>\n",
              "    .dataframe tbody tr th:only-of-type {\n",
              "        vertical-align: middle;\n",
              "    }\n",
              "\n",
              "    .dataframe tbody tr th {\n",
              "        vertical-align: top;\n",
              "    }\n",
              "\n",
              "    .dataframe thead th {\n",
              "        text-align: right;\n",
              "    }\n",
              "</style>\n",
              "<table border=\"1\" class=\"dataframe\">\n",
              "  <thead>\n",
              "    <tr style=\"text-align: right;\">\n",
              "      <th></th>\n",
              "      <th>url</th>\n",
              "      <th>timedelta</th>\n",
              "      <th>n_tokens_title</th>\n",
              "      <th>n_tokens_content</th>\n",
              "      <th>n_unique_tokens</th>\n",
              "      <th>n_non_stop_words</th>\n",
              "      <th>n_non_stop_unique_tokens</th>\n",
              "      <th>num_hrefs</th>\n",
              "      <th>num_self_hrefs</th>\n",
              "      <th>num_imgs</th>\n",
              "      <th>...</th>\n",
              "      <th>min_positive_polarity</th>\n",
              "      <th>max_positive_polarity</th>\n",
              "      <th>avg_negative_polarity</th>\n",
              "      <th>min_negative_polarity</th>\n",
              "      <th>max_negative_polarity</th>\n",
              "      <th>title_subjectivity</th>\n",
              "      <th>title_sentiment_polarity</th>\n",
              "      <th>abs_title_subjectivity</th>\n",
              "      <th>abs_title_sentiment_polarity</th>\n",
              "      <th>shares</th>\n",
              "    </tr>\n",
              "  </thead>\n",
              "  <tbody>\n",
              "    <tr>\n",
              "      <th>0</th>\n",
              "      <td>http://mashable.com/2013/01/07/amazon-instant-...</td>\n",
              "      <td>731.0</td>\n",
              "      <td>12.0</td>\n",
              "      <td>219.0</td>\n",
              "      <td>0.663594</td>\n",
              "      <td>1.0</td>\n",
              "      <td>0.815385</td>\n",
              "      <td>4.0</td>\n",
              "      <td>2.0</td>\n",
              "      <td>1.0</td>\n",
              "      <td>...</td>\n",
              "      <td>0.100000</td>\n",
              "      <td>0.7</td>\n",
              "      <td>-0.350000</td>\n",
              "      <td>-0.600</td>\n",
              "      <td>-0.200000</td>\n",
              "      <td>0.500000</td>\n",
              "      <td>-0.187500</td>\n",
              "      <td>0.000000</td>\n",
              "      <td>0.187500</td>\n",
              "      <td>593</td>\n",
              "    </tr>\n",
              "    <tr>\n",
              "      <th>1</th>\n",
              "      <td>http://mashable.com/2013/01/07/ap-samsung-spon...</td>\n",
              "      <td>731.0</td>\n",
              "      <td>9.0</td>\n",
              "      <td>255.0</td>\n",
              "      <td>0.604743</td>\n",
              "      <td>1.0</td>\n",
              "      <td>0.791946</td>\n",
              "      <td>3.0</td>\n",
              "      <td>1.0</td>\n",
              "      <td>1.0</td>\n",
              "      <td>...</td>\n",
              "      <td>0.033333</td>\n",
              "      <td>0.7</td>\n",
              "      <td>-0.118750</td>\n",
              "      <td>-0.125</td>\n",
              "      <td>-0.100000</td>\n",
              "      <td>0.000000</td>\n",
              "      <td>0.000000</td>\n",
              "      <td>0.500000</td>\n",
              "      <td>0.000000</td>\n",
              "      <td>711</td>\n",
              "    </tr>\n",
              "    <tr>\n",
              "      <th>2</th>\n",
              "      <td>http://mashable.com/2013/01/07/apple-40-billio...</td>\n",
              "      <td>731.0</td>\n",
              "      <td>9.0</td>\n",
              "      <td>211.0</td>\n",
              "      <td>0.575130</td>\n",
              "      <td>1.0</td>\n",
              "      <td>0.663866</td>\n",
              "      <td>3.0</td>\n",
              "      <td>1.0</td>\n",
              "      <td>1.0</td>\n",
              "      <td>...</td>\n",
              "      <td>0.100000</td>\n",
              "      <td>1.0</td>\n",
              "      <td>-0.466667</td>\n",
              "      <td>-0.800</td>\n",
              "      <td>-0.133333</td>\n",
              "      <td>0.000000</td>\n",
              "      <td>0.000000</td>\n",
              "      <td>0.500000</td>\n",
              "      <td>0.000000</td>\n",
              "      <td>1500</td>\n",
              "    </tr>\n",
              "    <tr>\n",
              "      <th>3</th>\n",
              "      <td>http://mashable.com/2013/01/07/astronaut-notre...</td>\n",
              "      <td>731.0</td>\n",
              "      <td>9.0</td>\n",
              "      <td>531.0</td>\n",
              "      <td>0.503788</td>\n",
              "      <td>1.0</td>\n",
              "      <td>0.665635</td>\n",
              "      <td>9.0</td>\n",
              "      <td>0.0</td>\n",
              "      <td>1.0</td>\n",
              "      <td>...</td>\n",
              "      <td>0.136364</td>\n",
              "      <td>0.8</td>\n",
              "      <td>-0.369697</td>\n",
              "      <td>-0.600</td>\n",
              "      <td>-0.166667</td>\n",
              "      <td>0.000000</td>\n",
              "      <td>0.000000</td>\n",
              "      <td>0.500000</td>\n",
              "      <td>0.000000</td>\n",
              "      <td>1200</td>\n",
              "    </tr>\n",
              "    <tr>\n",
              "      <th>4</th>\n",
              "      <td>http://mashable.com/2013/01/07/att-u-verse-apps/</td>\n",
              "      <td>731.0</td>\n",
              "      <td>13.0</td>\n",
              "      <td>1072.0</td>\n",
              "      <td>0.415646</td>\n",
              "      <td>1.0</td>\n",
              "      <td>0.540890</td>\n",
              "      <td>19.0</td>\n",
              "      <td>19.0</td>\n",
              "      <td>20.0</td>\n",
              "      <td>...</td>\n",
              "      <td>0.033333</td>\n",
              "      <td>1.0</td>\n",
              "      <td>-0.220192</td>\n",
              "      <td>-0.500</td>\n",
              "      <td>-0.050000</td>\n",
              "      <td>0.454545</td>\n",
              "      <td>0.136364</td>\n",
              "      <td>0.045455</td>\n",
              "      <td>0.136364</td>\n",
              "      <td>505</td>\n",
              "    </tr>\n",
              "  </tbody>\n",
              "</table>\n",
              "<p>5 rows × 61 columns</p>\n",
              "</div>\n",
              "      <button class=\"colab-df-convert\" onclick=\"convertToInteractive('df-65d4c5d7-fa0d-430a-a8d8-a6eb4d0cfdca')\"\n",
              "              title=\"Convert this dataframe to an interactive table.\"\n",
              "              style=\"display:none;\">\n",
              "        \n",
              "  <svg xmlns=\"http://www.w3.org/2000/svg\" height=\"24px\"viewBox=\"0 0 24 24\"\n",
              "       width=\"24px\">\n",
              "    <path d=\"M0 0h24v24H0V0z\" fill=\"none\"/>\n",
              "    <path d=\"M18.56 5.44l.94 2.06.94-2.06 2.06-.94-2.06-.94-.94-2.06-.94 2.06-2.06.94zm-11 1L8.5 8.5l.94-2.06 2.06-.94-2.06-.94L8.5 2.5l-.94 2.06-2.06.94zm10 10l.94 2.06.94-2.06 2.06-.94-2.06-.94-.94-2.06-.94 2.06-2.06.94z\"/><path d=\"M17.41 7.96l-1.37-1.37c-.4-.4-.92-.59-1.43-.59-.52 0-1.04.2-1.43.59L10.3 9.45l-7.72 7.72c-.78.78-.78 2.05 0 2.83L4 21.41c.39.39.9.59 1.41.59.51 0 1.02-.2 1.41-.59l7.78-7.78 2.81-2.81c.8-.78.8-2.07 0-2.86zM5.41 20L4 18.59l7.72-7.72 1.47 1.35L5.41 20z\"/>\n",
              "  </svg>\n",
              "      </button>\n",
              "      \n",
              "  <style>\n",
              "    .colab-df-container {\n",
              "      display:flex;\n",
              "      flex-wrap:wrap;\n",
              "      gap: 12px;\n",
              "    }\n",
              "\n",
              "    .colab-df-convert {\n",
              "      background-color: #E8F0FE;\n",
              "      border: none;\n",
              "      border-radius: 50%;\n",
              "      cursor: pointer;\n",
              "      display: none;\n",
              "      fill: #1967D2;\n",
              "      height: 32px;\n",
              "      padding: 0 0 0 0;\n",
              "      width: 32px;\n",
              "    }\n",
              "\n",
              "    .colab-df-convert:hover {\n",
              "      background-color: #E2EBFA;\n",
              "      box-shadow: 0px 1px 2px rgba(60, 64, 67, 0.3), 0px 1px 3px 1px rgba(60, 64, 67, 0.15);\n",
              "      fill: #174EA6;\n",
              "    }\n",
              "\n",
              "    [theme=dark] .colab-df-convert {\n",
              "      background-color: #3B4455;\n",
              "      fill: #D2E3FC;\n",
              "    }\n",
              "\n",
              "    [theme=dark] .colab-df-convert:hover {\n",
              "      background-color: #434B5C;\n",
              "      box-shadow: 0px 1px 3px 1px rgba(0, 0, 0, 0.15);\n",
              "      filter: drop-shadow(0px 1px 2px rgba(0, 0, 0, 0.3));\n",
              "      fill: #FFFFFF;\n",
              "    }\n",
              "  </style>\n",
              "\n",
              "      <script>\n",
              "        const buttonEl =\n",
              "          document.querySelector('#df-65d4c5d7-fa0d-430a-a8d8-a6eb4d0cfdca button.colab-df-convert');\n",
              "        buttonEl.style.display =\n",
              "          google.colab.kernel.accessAllowed ? 'block' : 'none';\n",
              "\n",
              "        async function convertToInteractive(key) {\n",
              "          const element = document.querySelector('#df-65d4c5d7-fa0d-430a-a8d8-a6eb4d0cfdca');\n",
              "          const dataTable =\n",
              "            await google.colab.kernel.invokeFunction('convertToInteractive',\n",
              "                                                     [key], {});\n",
              "          if (!dataTable) return;\n",
              "\n",
              "          const docLinkHtml = 'Like what you see? Visit the ' +\n",
              "            '<a target=\"_blank\" href=https://colab.research.google.com/notebooks/data_table.ipynb>data table notebook</a>'\n",
              "            + ' to learn more about interactive tables.';\n",
              "          element.innerHTML = '';\n",
              "          dataTable['output_type'] = 'display_data';\n",
              "          await google.colab.output.renderOutput(dataTable, element);\n",
              "          const docLink = document.createElement('div');\n",
              "          docLink.innerHTML = docLinkHtml;\n",
              "          element.appendChild(docLink);\n",
              "        }\n",
              "      </script>\n",
              "    </div>\n",
              "  </div>\n",
              "  "
            ]
          },
          "metadata": {},
          "execution_count": 3
        }
      ]
    },
    {
      "cell_type": "code",
      "source": [
        "original_data.columns"
      ],
      "metadata": {
        "colab": {
          "base_uri": "https://localhost:8080/"
        },
        "id": "M5CBCIhwkA_1",
        "outputId": "473f36b3-f62c-46c6-d70b-7be74e5be839"
      },
      "execution_count": null,
      "outputs": [
        {
          "output_type": "execute_result",
          "data": {
            "text/plain": [
              "Index(['url', ' timedelta', ' n_tokens_title', ' n_tokens_content',\n",
              "       ' n_unique_tokens', ' n_non_stop_words', ' n_non_stop_unique_tokens',\n",
              "       ' num_hrefs', ' num_self_hrefs', ' num_imgs', ' num_videos',\n",
              "       ' average_token_length', ' num_keywords', ' data_channel_is_lifestyle',\n",
              "       ' data_channel_is_entertainment', ' data_channel_is_bus',\n",
              "       ' data_channel_is_socmed', ' data_channel_is_tech',\n",
              "       ' data_channel_is_world', ' kw_min_min', ' kw_max_min', ' kw_avg_min',\n",
              "       ' kw_min_max', ' kw_max_max', ' kw_avg_max', ' kw_min_avg',\n",
              "       ' kw_max_avg', ' kw_avg_avg', ' self_reference_min_shares',\n",
              "       ' self_reference_max_shares', ' self_reference_avg_sharess',\n",
              "       ' weekday_is_monday', ' weekday_is_tuesday', ' weekday_is_wednesday',\n",
              "       ' weekday_is_thursday', ' weekday_is_friday', ' weekday_is_saturday',\n",
              "       ' weekday_is_sunday', ' is_weekend', ' LDA_00', ' LDA_01', ' LDA_02',\n",
              "       ' LDA_03', ' LDA_04', ' global_subjectivity',\n",
              "       ' global_sentiment_polarity', ' global_rate_positive_words',\n",
              "       ' global_rate_negative_words', ' rate_positive_words',\n",
              "       ' rate_negative_words', ' avg_positive_polarity',\n",
              "       ' min_positive_polarity', ' max_positive_polarity',\n",
              "       ' avg_negative_polarity', ' min_negative_polarity',\n",
              "       ' max_negative_polarity', ' title_subjectivity',\n",
              "       ' title_sentiment_polarity', ' abs_title_subjectivity',\n",
              "       ' abs_title_sentiment_polarity', ' shares'],\n",
              "      dtype='object')"
            ]
          },
          "metadata": {},
          "execution_count": 40
        }
      ]
    },
    {
      "cell_type": "code",
      "source": [
        "X = original_data[[' n_tokens_title', ' n_tokens_content', ' n_unique_tokens', ' n_non_stop_words', ' n_non_stop_unique_tokens', ' num_hrefs', ' num_self_hrefs',\n",
        "                   ' num_imgs', ' num_videos', ' average_token_length', ' num_keywords', ' data_channel_is_lifestyle', ' data_channel_is_entertainment', ' data_channel_is_bus',\n",
        "                   ' data_channel_is_socmed', ' data_channel_is_tech', ' data_channel_is_world', ' kw_min_min', ' kw_max_min', ' kw_avg_min', ' kw_min_max', ' kw_max_max', ' kw_avg_max',\n",
        "                   ' kw_min_avg', ' kw_max_avg', ' kw_avg_avg', ' self_reference_min_shares', ' self_reference_max_shares', ' self_reference_avg_sharess',\n",
        "                   ' weekday_is_monday', ' weekday_is_tuesday', ' weekday_is_wednesday', ' weekday_is_thursday', ' weekday_is_friday', ' weekday_is_saturday', ' weekday_is_sunday',\n",
        "                   ' is_weekend', ' LDA_00', ' LDA_01', ' LDA_02', ' LDA_03', ' LDA_04', ' global_subjectivity', ' global_sentiment_polarity', ' global_rate_positive_words',\n",
        "                   ' global_rate_negative_words', ' rate_positive_words', ' rate_negative_words', ' avg_positive_polarity', ' min_positive_polarity', ' max_positive_polarity',\n",
        "                   ' avg_negative_polarity', ' min_negative_polarity', ' max_negative_polarity', ' title_subjectivity', ' title_sentiment_polarity', ' abs_title_subjectivity',\n",
        "                   ' abs_title_sentiment_polarity']].copy()\n",
        "\n",
        "\n",
        "y = original_data[' shares'].copy()\n"
      ],
      "metadata": {
        "id": "mcpOZD6kehn5"
      },
      "execution_count": null,
      "outputs": []
    },
    {
      "cell_type": "code",
      "source": [
        "from sklearn.model_selection import train_test_split\n",
        "\n",
        "# Split into validation set\n",
        "X_remained, X_test, y_remained, y_test = train_test_split(X, y, test_size = 0.2, random_state = 52)\n",
        "X_train, X_val, y_train, y_val = train_test_split(X_remained, y_remained, test_size = 0.25, random_state = 52)\n"
      ],
      "metadata": {
        "id": "kuCzDVnjnxyp"
      },
      "execution_count": null,
      "outputs": []
    },
    {
      "cell_type": "markdown",
      "source": [
        "Intro to Scikit-learn’s k-Nearest-Neighbors Classifier And Regressor\n",
        "\n",
        "https://towardsdatascience.com/intro-to-scikit-learns-k-nearest-neighbors-classifier-and-regressor-4228d8d1cba6\n"
      ],
      "metadata": {
        "id": "YAVhC2sJyHmJ"
      }
    },
    {
      "cell_type": "code",
      "source": [
        "from sklearn.neighbors import KNeighborsRegressor\n"
      ],
      "metadata": {
        "id": "DS-fC53HoWb_"
      },
      "execution_count": null,
      "outputs": []
    },
    {
      "cell_type": "code",
      "source": [
        "\n",
        "# Initialize kNN\n",
        "knn = KNeighborsRegressor(n_neighbors=5)\n",
        "\n",
        "# Fit and score\n",
        "knn.fit(X_train, y_train)\n",
        "\n",
        "knn.score(X_val, y_val)"
      ],
      "metadata": {
        "id": "MCAh7_RKoWe8",
        "colab": {
          "base_uri": "https://localhost:8080/"
        },
        "outputId": "0f837bf3-bbb2-4132-c7d1-d944dd815e26"
      },
      "execution_count": null,
      "outputs": [
        {
          "output_type": "execute_result",
          "data": {
            "text/plain": [
              "-0.10652722862691055"
            ]
          },
          "metadata": {},
          "execution_count": 7
        }
      ]
    },
    {
      "cell_type": "code",
      "source": [
        "\n",
        "# Initialize kNN\n",
        "knn = KNeighborsRegressor(n_neighbors=1)\n",
        "\n",
        "# Fit and score\n",
        "knn.fit(X_train, y_train)\n",
        "\n",
        "knn.score(X_val, y_val)"
      ],
      "metadata": {
        "colab": {
          "base_uri": "https://localhost:8080/"
        },
        "id": "KmCgbt5dyvum",
        "outputId": "050335c5-e814-44fb-8573-df0f7b2f5ee7"
      },
      "execution_count": null,
      "outputs": [
        {
          "output_type": "execute_result",
          "data": {
            "text/plain": [
              "-1.0313787425620844"
            ]
          },
          "metadata": {},
          "execution_count": 8
        }
      ]
    },
    {
      "cell_type": "code",
      "source": [
        "\n",
        "# Initialize kNN\n",
        "knn = KNeighborsRegressor(n_neighbors=2)\n",
        "\n",
        "# Fit and score\n",
        "knn.fit(X_train, y_train)\n",
        "\n",
        "knn.score(X_val, y_val)"
      ],
      "metadata": {
        "colab": {
          "base_uri": "https://localhost:8080/"
        },
        "id": "gSJbCjHbyyEr",
        "outputId": "03f2a4a0-c2f6-4d5b-9b2a-88a3b8fac073"
      },
      "execution_count": null,
      "outputs": [
        {
          "output_type": "execute_result",
          "data": {
            "text/plain": [
              "-0.3223032143312634"
            ]
          },
          "metadata": {},
          "execution_count": 9
        }
      ]
    },
    {
      "cell_type": "code",
      "source": [
        "\n",
        "# Initialize kNN\n",
        "knn = KNeighborsRegressor(n_neighbors=3)\n",
        "\n",
        "# Fit and score\n",
        "knn.fit(X_train, y_train)\n",
        "\n",
        "knn.score(X_val, y_val)"
      ],
      "metadata": {
        "colab": {
          "base_uri": "https://localhost:8080/"
        },
        "id": "jaa_Pg5myzwd",
        "outputId": "6d962767-45df-49b1-cf92-fe0a974bc543"
      },
      "execution_count": null,
      "outputs": [
        {
          "output_type": "execute_result",
          "data": {
            "text/plain": [
              "-0.2289533604988776"
            ]
          },
          "metadata": {},
          "execution_count": 10
        }
      ]
    },
    {
      "cell_type": "code",
      "source": [
        "\n",
        "# Initialize kNN\n",
        "knn = KNeighborsRegressor(n_neighbors=4)\n",
        "\n",
        "# Fit and score\n",
        "knn.fit(X_train, y_train)\n",
        "\n",
        "knn.score(X_val, y_val)"
      ],
      "metadata": {
        "colab": {
          "base_uri": "https://localhost:8080/"
        },
        "id": "tOq6tdS1y1fY",
        "outputId": "ed83dadf-aeef-4649-eb1c-9307c8cdf8a6"
      },
      "execution_count": null,
      "outputs": [
        {
          "output_type": "execute_result",
          "data": {
            "text/plain": [
              "-0.14318485361173727"
            ]
          },
          "metadata": {},
          "execution_count": 11
        }
      ]
    },
    {
      "cell_type": "code",
      "source": [
        "def plot_complexity_curve(k_list, knn_model, x_train, X_val, y_train, y_val):\n",
        "    \n",
        "    train_scores = []\n",
        "    test_scores = []\n",
        "    \n",
        "    # For each k\n",
        "    for k in k_list:\n",
        "        # Initialize, fit, predict\n",
        "        knn = knn_model(k)\n",
        "        \n",
        "        knn.fit(x_train, y_train)\n",
        "        \n",
        "        train_scores.append(knn.score(x_train, y_train))\n",
        "        test_scores.append(knn.score(X_val, y_val))\n",
        "\n",
        "    # Plot\n",
        "    fig, ax = plt.subplots()\n",
        "    \n",
        "    ax.plot(k_list, train_scores, label='Training Accuracy', color='red')\n",
        "    ax.plot(k_list, test_scores, label='Testing Accuracy', color='black')\n",
        "\n",
        "    ax.set(title='k-NN with Different Values for $k$',\n",
        "           xlabel='Number of Neighbors',\n",
        "           ylabel='Accuracy')\n",
        "    \n",
        "    ax.legend()"
      ],
      "metadata": {
        "id": "lwea8MQzzHj6"
      },
      "execution_count": null,
      "outputs": []
    },
    {
      "cell_type": "code",
      "source": [
        "# Create possible values for k\n",
        "neighbors = np.arange(1, 15)\n",
        "\n",
        "plot_complexity_curve(neighbors, KNeighborsClassifier, \n",
        "                    X_train, X_val, y_train, y_val)"
      ],
      "metadata": {
        "colab": {
          "base_uri": "https://localhost:8080/",
          "height": 296
        },
        "id": "whwGmWFWzVLz",
        "outputId": "2e42849c-5769-4cdb-bf8c-79bf2f212f10"
      },
      "execution_count": null,
      "outputs": [
        {
          "output_type": "display_data",
          "data": {
            "text/plain": [
              "<Figure size 432x288 with 1 Axes>"
            ],
            "image/png": "[encoded data removed]"
          },
          "metadata": {
            "needs_background": "light"
          }
        }
      ]
    },
    {
      "cell_type": "markdown",
      "source": [
        "\n",
        "\n",
        "### **Improving the Performance of kNN, Feature Scaling**\n",
        "\n"
      ],
      "metadata": {
        "id": "WHES7N3Tz27F"
      }
    },
    {
      "cell_type": "code",
      "source": [
        "from sklearn.preprocessing import MinMaxScaler\n"
      ],
      "metadata": {
        "id": "PSLe5aYbz7Fa"
      },
      "execution_count": null,
      "outputs": []
    },
    {
      "cell_type": "code",
      "source": [
        "\n",
        "# Initiate the scaler\n",
        "scaler = MinMaxScaler()\n",
        "\n",
        "# Fit/transform to all numeric data\n",
        "X_prepped = scaler.fit_transform(X)\n",
        "\n",
        "# Split into validation set\n",
        "X_remained, X_test, y_remained, y_test = train_test_split(X_prepped, y, test_size = 0.2, random_state = 52)\n",
        "X_train, X_val, y_train, y_val = train_test_split(X_remained, y_remained, test_size = 0.25, random_state = 52)\n"
      ],
      "metadata": {
        "id": "Qj-0_JZVz9Xt"
      },
      "execution_count": null,
      "outputs": []
    },
    {
      "cell_type": "code",
      "source": [
        "k_list = np.arange(1, 15)\n",
        "\n",
        "plot_complexity_curve(k_list, KNeighborsClassifier, \n",
        "                    X_train, X_test, y_train, y_test)"
      ],
      "metadata": {
        "colab": {
          "base_uri": "https://localhost:8080/",
          "height": 296
        },
        "id": "nNOqECIJ0h3O",
        "outputId": "0aea60cb-acc0-400f-f894-b0144c33b7e9"
      },
      "execution_count": null,
      "outputs": [
        {
          "output_type": "display_data",
          "data": {
            "text/plain": [
              "<Figure size 432x288 with 1 Axes>"
            ],
            "image/png": "[encoded data removed]"
          },
          "metadata": {
            "needs_background": "light"
          }
        }
      ]
    },
    {
      "cell_type": "markdown",
      "source": [
        "Concluding Remarks\n",
        "I want to finish the article by summarizing the pros and cons of kNN.\n",
        "\n",
        "### **Pros:**\n",
        "\n",
        "Very simple algorithm, \n",
        "easy to interpret\n",
        "\n",
        "Fast training phase\n",
        "\n",
        "No assumption of the underlying distribution of data\n",
        "\n",
        "Versatile — can be used both for regression and classification\n",
        "\n",
        "\n",
        "### **Cons:**\n",
        "\n",
        "Very slow predicting phase\n",
        "\n",
        "Heavy memory usage because it stores all data\n",
        "\n",
        "Sensitive to magnitudes — that’s why need features need to be scaled\n",
        "\n",
        "Sensitive to outliers and noise\n",
        "\n",
        "Suffers from the curse of dimensionality\n",
        "\n",
        "Thanks for reading!"
      ],
      "metadata": {
        "id": "sQsoiYLn07Qg"
      }
    }
  ]
}